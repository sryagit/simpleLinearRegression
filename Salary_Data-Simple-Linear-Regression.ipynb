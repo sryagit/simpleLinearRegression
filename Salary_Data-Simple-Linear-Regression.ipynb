import pandas as pd
import numpy as np
from sklearn.model_selection import train_test_split
from sklearn.linear_model import LinearRegression
import joblib

# Load the dataset
df = pd.read_csv('salary_data.csv')

# Prepare the data
X = df.drop('salary', axis=1).values
y = df['salary'].values

# Split the data into training and testing sets
X_train, X_test, y_train, y_test = train_test_split(X, y, test_size=0.2, random_state=42)

# Train the model
model = LinearRegression()
model.fit(X_train, y_train)

# Save the model
joblib.dump(model, 'salary_model.joblib')
